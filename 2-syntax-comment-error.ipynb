{
 "cells": [
  {
   "cell_type": "markdown",
   "metadata": {},
   "source": [
    "## Python Basic Syntax"
   ]
  },
  {
   "cell_type": "markdown",
   "metadata": {},
   "source": [
    "### Reserve words\n",
    "(that you can not use as variables)"
   ]
  },
  {
   "cell_type": "markdown",
   "metadata": {},
   "source": [
    "| |Reserve |  words| |\n",
    "| --- | --- | --- | --- |\n",
    "|and\t|exec\t|not| assert|\n",
    "|finally\t|or | break\t| for\t|\n",
    "|pass| class\t| from\t| print | \n",
    "|continue\t| global\t| raise | def\t|\n",
    "| if\t| return | del\t| import |\n",
    "| try | elif\t| in\t| while |\n",
    "|else\t| is\t| with | except\t|\n",
    "| lambda\t| yield |"
   ]
  },
  {
   "cell_type": "code",
   "execution_count": 6,
   "metadata": {},
   "outputs": [
    {
     "name": "stdout",
     "output_type": "stream",
     "text": [
      "20\n",
      "22\n"
     ]
    }
   ],
   "source": [
    "a = 5\n",
    "ad = 10\n",
    "nd = 15\n",
    "n = 20\n",
    "print(n)\n",
    "nt = 22\n",
    "print(nt)"
   ]
  },
  {
   "cell_type": "code",
   "execution_count": 10,
   "metadata": {},
   "outputs": [
    {
     "ename": "TypeError",
     "evalue": "unsupported operand type(s) for +: 'float' and 'str'",
     "output_type": "error",
     "traceback": [
      "\u001b[1;31m---------------------------------------------------------------------------\u001b[0m",
      "\u001b[1;31mTypeError\u001b[0m                                 Traceback (most recent call last)",
      "\u001b[1;32m<ipython-input-10-094065b2ce6a>\u001b[0m in \u001b[0;36m<module>\u001b[1;34m\u001b[0m\n\u001b[0;32m      1\u001b[0m \u001b[0ma0\u001b[0m \u001b[1;33m=\u001b[0m \u001b[1;36m5.0\u001b[0m\u001b[1;33m\u001b[0m\u001b[1;33m\u001b[0m\u001b[0m\n\u001b[0;32m      2\u001b[0m \u001b[0mb0\u001b[0m \u001b[1;33m=\u001b[0m \u001b[1;34m'5.0'\u001b[0m\u001b[1;33m\u001b[0m\u001b[1;33m\u001b[0m\u001b[0m\n\u001b[1;32m----> 3\u001b[1;33m \u001b[0mc0\u001b[0m \u001b[1;33m=\u001b[0m \u001b[0ma0\u001b[0m \u001b[1;33m+\u001b[0m \u001b[0mb0\u001b[0m\u001b[1;33m\u001b[0m\u001b[1;33m\u001b[0m\u001b[0m\n\u001b[0m\u001b[0;32m      4\u001b[0m \u001b[0mprint\u001b[0m\u001b[1;33m(\u001b[0m\u001b[0mc0\u001b[0m\u001b[1;33m)\u001b[0m\u001b[1;33m\u001b[0m\u001b[1;33m\u001b[0m\u001b[0m\n",
      "\u001b[1;31mTypeError\u001b[0m: unsupported operand type(s) for +: 'float' and 'str'"
     ]
    }
   ],
   "source": [
    "a0 = 5.0\n",
    "b0 = '5.0'\n",
    "c0 = a0 + b0\n",
    "print(c0)"
   ]
  },
  {
   "cell_type": "markdown",
   "metadata": {},
   "source": [
    "### Lines and Indentation"
   ]
  },
  {
   "cell_type": "code",
   "execution_count": 16,
   "metadata": {},
   "outputs": [],
   "source": [
    "a = 2.0\n",
    "b = 5\n",
    "c = 10.0\n",
    "\n",
    "d = a + \\\n",
    "    b + \\\n",
    "    c"
   ]
  },
  {
   "cell_type": "code",
   "execution_count": 17,
   "metadata": {},
   "outputs": [
    {
     "name": "stdout",
     "output_type": "stream",
     "text": [
      "17.0\n"
     ]
    }
   ],
   "source": [
    "print(d)"
   ]
  },
  {
   "cell_type": "code",
   "execution_count": 18,
   "metadata": {},
   "outputs": [
    {
     "name": "stdout",
     "output_type": "stream",
     "text": [
      "17.0\n"
     ]
    }
   ],
   "source": [
    "d1 = a + b + c\n",
    "print(d1)"
   ]
  },
  {
   "cell_type": "code",
   "execution_count": 30,
   "metadata": {},
   "outputs": [
    {
     "name": "stdout",
     "output_type": "stream",
     "text": [
      "this is : 0\n",
      "=====>I understand the use of Indentation <=====\n",
      "this is : 1\n",
      "=====>I understand the use of Indentation <=====\n",
      "this is : 2\n",
      "=====>I understand the use of Indentation <=====\n",
      "this is : 3\n",
      "=====>I understand the use of Indentation <=====\n",
      "this is : 4\n",
      "=====>I understand the use of Indentation <=====\n",
      "this is : 5\n",
      "=====>I understand the use of Indentation <=====\n",
      "this is : 6\n",
      "=====>I understand the use of Indentation <=====\n",
      "this is : 7\n",
      "=====>I understand the use of Indentation <=====\n",
      "this is : 8\n",
      "=====>I understand the use of Indentation <=====\n",
      "this is : 9\n",
      "=====>I understand the use of Indentation <=====\n"
     ]
    }
   ],
   "source": [
    "for x in range(10):\n",
    "    print(\"this is :\",x)\n",
    "    print(\"=====>I understand the use of Indentation <=====\")"
   ]
  },
  {
   "cell_type": "markdown",
   "metadata": {},
   "source": [
    "### Quotes in python \n",
    "(single, double, triple)"
   ]
  },
  {
   "cell_type": "code",
   "execution_count": 32,
   "metadata": {},
   "outputs": [
    {
     "data": {
      "text/plain": [
       "' this is paragraph. Python is very easy and interesting program, exciting to learn!!  \\nPython is very easy and interesting program, exciting to learn!! Python \\nis very easy and interesting program, exciting to learn!! Python is very easy\\nand interesting program, exciting to learn!! \\nPython is very easy and interesting program, exciting to learn!! Python is \\nvery easy and interesting program, exciting to learn!! Python is very easy \\nand interesting program, exciting to learn!!\\n'"
      ]
     },
     "execution_count": 32,
     "metadata": {},
     "output_type": "execute_result"
    }
   ],
   "source": [
    "a1 = 'word'\n",
    "a2 = \"this is sentence\"\n",
    "a3 = ''' this is paragraph. Python is very easy and interesting program, exciting to learn!!  \n",
    "Python is very easy and interesting program, exciting to learn!! Python \n",
    "is very easy and interesting program, exciting to learn!! Python is very easy\n",
    "and interesting program, exciting to learn!! \n",
    "Python is very easy and interesting program, exciting to learn!! Python is \n",
    "very easy and interesting program, exciting to learn!! Python is very easy \n",
    "and interesting program, exciting to learn!!\n",
    "'''\n",
    "a3"
   ]
  },
  {
   "cell_type": "markdown",
   "metadata": {},
   "source": [
    "### Comments \n",
    "(single line, multiline)"
   ]
  },
  {
   "cell_type": "code",
   "execution_count": 42,
   "metadata": {},
   "outputs": [
    {
     "name": "stdout",
     "output_type": "stream",
     "text": [
      "5.0\n"
     ]
    }
   ],
   "source": [
    "#####\n",
    "\n",
    "###############\n",
    "     # this is single line comment. Python will not read it\n",
    "\n",
    "d = 15.0     #this is distance\n",
    "t = 3.0      # time\n",
    "v = d/t      # velocity\n",
    "\n",
    "\"\"\"\n",
    "this is multilines comments\n",
    "doing something\n",
    "still doing\n",
    "\"\"\"\n",
    "print(v)"
   ]
  },
  {
   "cell_type": "markdown",
   "metadata": {},
   "source": [
    "### Operators"
   ]
  },
  {
   "cell_type": "markdown",
   "metadata": {},
   "source": [
    "##### Python supports the following types of operators.\n",
    "\n",
    "- Arithmetic Operators\n",
    "- Comparison (Relational) Operators\n",
    "- Assignment Operators\n",
    "- Logical Operators\n",
    "- Bitwise Operators\n",
    "- Membership Operators\n",
    "- Identity Operators \\\n",
    "(you can find details here: https://www.tutorialspoint.com/python/python_basic_operators.htm )"
   ]
  },
  {
   "cell_type": "code",
   "execution_count": 42,
   "metadata": {},
   "outputs": [
    {
     "data": {
      "text/plain": [
       "13"
      ]
     },
     "execution_count": 42,
     "metadata": {},
     "output_type": "execute_result"
    }
   ],
   "source": [
    "#airthmatic operators\n",
    "10+3  "
   ]
  },
  {
   "cell_type": "code",
   "execution_count": 47,
   "metadata": {},
   "outputs": [
    {
     "data": {
      "text/plain": [
       "30"
      ]
     },
     "execution_count": 47,
     "metadata": {},
     "output_type": "execute_result"
    }
   ],
   "source": [
    "10*3    "
   ]
  },
  {
   "cell_type": "code",
   "execution_count": 44,
   "metadata": {},
   "outputs": [
    {
     "data": {
      "text/plain": [
       "7"
      ]
     },
     "execution_count": 44,
     "metadata": {},
     "output_type": "execute_result"
    }
   ],
   "source": [
    "10-3"
   ]
  },
  {
   "cell_type": "code",
   "execution_count": 34,
   "metadata": {},
   "outputs": [
    {
     "data": {
      "text/plain": [
       "1"
      ]
     },
     "execution_count": 34,
     "metadata": {},
     "output_type": "execute_result"
    }
   ],
   "source": [
    "10%3  #modulus"
   ]
  },
  {
   "cell_type": "code",
   "execution_count": 36,
   "metadata": {},
   "outputs": [
    {
     "data": {
      "text/plain": [
       "8"
      ]
     },
     "execution_count": 36,
     "metadata": {},
     "output_type": "execute_result"
    }
   ],
   "source": [
    "2**3   # power or exponential"
   ]
  },
  {
   "cell_type": "code",
   "execution_count": null,
   "metadata": {},
   "outputs": [],
   "source": [
    "2,3,5,7\n"
   ]
  }
 ],
 "metadata": {
  "kernelspec": {
   "display_name": "Python 3",
   "language": "python",
   "name": "python3"
  },
  "language_info": {
   "codemirror_mode": {
    "name": "ipython",
    "version": 3
   },
   "file_extension": ".py",
   "mimetype": "text/x-python",
   "name": "python",
   "nbconvert_exporter": "python",
   "pygments_lexer": "ipython3",
   "version": "3.7.9"
  }
 },
 "nbformat": 4,
 "nbformat_minor": 4
}
