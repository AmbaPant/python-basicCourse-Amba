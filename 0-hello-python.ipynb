{
 "cells": [
  {
   "cell_type": "code",
   "execution_count": 2,
   "metadata": {},
   "outputs": [
    {
     "name": "stdout",
     "output_type": "stream",
     "text": [
      "hello python 2021!\n"
     ]
    }
   ],
   "source": [
    "print(\"hello python 2021!\")"
   ]
  },
  {
   "cell_type": "markdown",
   "metadata": {},
   "source": [
    "- Hi \n",
    "welcome"
   ]
  },
  {
   "cell_type": "code",
   "execution_count": 3,
   "metadata": {},
   "outputs": [
    {
     "name": "stdout",
     "output_type": "stream",
     "text": [
      "Hello python, I am excited to learn !\n"
     ]
    }
   ],
   "source": [
    "my_message = \"Hello python, I am excited to learn !\"\n",
    "\n",
    "print(my_message)"
   ]
  },
  {
   "cell_type": "code",
   "execution_count": 4,
   "metadata": {},
   "outputs": [
    {
     "name": "stdout",
     "output_type": "stream",
     "text": [
      "Your name please ?amba\n",
      "\n",
      "\tHi amba \n",
      "\t**\n",
      "**Welcome to Jupyter !***\n",
      "Let's learn python programming\n"
     ]
    }
   ],
   "source": [
    "urName = input (\"Your name please ?\")\n",
    "\n",
    "print(\"\\n\\tHi\",urName, \"\\n\\t**\\n**Welcome to Jupyter !***\")\n",
    "print(\"Let's learn python programming\")"
   ]
  },
  {
   "cell_type": "code",
   "execution_count": 5,
   "metadata": {},
   "outputs": [
    {
     "data": {
      "text/plain": [
       "5"
      ]
     },
     "execution_count": 5,
     "metadata": {},
     "output_type": "execute_result"
    }
   ],
   "source": [
    "2+3"
   ]
  },
  {
   "cell_type": "code",
   "execution_count": 6,
   "metadata": {},
   "outputs": [
    {
     "data": {
      "text/plain": [
       "5.0"
      ]
     },
     "execution_count": 6,
     "metadata": {},
     "output_type": "execute_result"
    }
   ],
   "source": [
    "10/2"
   ]
  },
  {
   "cell_type": "markdown",
   "metadata": {},
   "source": [
    "### Programming in python and executing\n",
    "- Interactive Mode Programming \\\n",
    "(run command prompt)\n",
    "- Script Mode Programming\\\n",
    "(write script in a file file.py and run it using $python file.py)\n",
    "- directly in Jupyter\\\n",
    "(write script and click run)"
   ]
  },
  {
   "cell_type": "code",
   "execution_count": null,
   "metadata": {},
   "outputs": [],
   "source": []
  }
 ],
 "metadata": {
  "kernelspec": {
   "display_name": "Python 3",
   "language": "python",
   "name": "python3"
  },
  "language_info": {
   "codemirror_mode": {
    "name": "ipython",
    "version": 3
   },
   "file_extension": ".py",
   "mimetype": "text/x-python",
   "name": "python",
   "nbconvert_exporter": "python",
   "pygments_lexer": "ipython3",
   "version": "3.7.9"
  }
 },
 "nbformat": 4,
 "nbformat_minor": 4
}
