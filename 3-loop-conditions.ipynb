{
 "cells": [
  {
   "cell_type": "markdown",
   "metadata": {},
   "source": [
    "# Loops and conditions used in python\n",
    "\n",
    "Loops provide the method of iteration while condition allows or blocks the code execution"
   ]
  },
  {
   "cell_type": "markdown",
   "metadata": {},
   "source": [
    "### for and while loops"
   ]
  },
  {
   "cell_type": "markdown",
   "metadata": {},
   "source": [
    "- To iterate over the List. Lets prin the items in the list"
   ]
  },
  {
   "cell_type": "code",
   "execution_count": 3,
   "metadata": {},
   "outputs": [
    {
     "name": "stdout",
     "output_type": "stream",
     "text": [
      "item  book2\n",
      "item  pen1\n",
      "item  pencil\n",
      "item  eraser\n"
     ]
    }
   ],
   "source": [
    "L =['book2','pen1','pencil','eraser']\n",
    "for k in L:\n",
    "    print(\"item \",k)"
   ]
  },
  {
   "cell_type": "markdown",
   "metadata": {},
   "source": [
    "- What is range?"
   ]
  },
  {
   "cell_type": "code",
   "execution_count": 4,
   "metadata": {},
   "outputs": [
    {
     "data": {
      "text/plain": [
       "(range(0, 5), range(1, 10), 45)"
      ]
     },
     "execution_count": 4,
     "metadata": {},
     "output_type": "execute_result"
    }
   ],
   "source": [
    "range(5), range(1,10), sum(range(10))"
   ]
  },
  {
   "cell_type": "markdown",
   "metadata": {},
   "source": [
    "- iteration using for loop"
   ]
  },
  {
   "cell_type": "code",
   "execution_count": 6,
   "metadata": {},
   "outputs": [
    {
     "data": {
      "text/plain": [
       "[0, 5, 10, 15, 20]"
      ]
     },
     "execution_count": 6,
     "metadata": {},
     "output_type": "execute_result"
    }
   ],
   "source": [
    "L = []\n",
    "for k in range(5):\n",
    "    L.append(5*k)\n",
    "L"
   ]
  },
  {
   "cell_type": "markdown",
   "metadata": {},
   "source": [
    "- Double loop also called ***nested for loop***. Here is double for loop with ```i``` and ```j```"
   ]
  },
  {
   "cell_type": "code",
   "execution_count": 7,
   "metadata": {},
   "outputs": [
    {
     "name": "stdout",
     "output_type": "stream",
     "text": [
      "i =  0 , j =  0 : equal case\n",
      "*i =  0 , j =  1 : unequal case\n",
      "*i =  0 , j =  2 : unequal case\n",
      "*i =  1 , j =  0 : unequal case\n",
      "i =  1 , j =  1 : equal case\n",
      "*i =  1 , j =  2 : unequal case\n",
      "*i =  2 , j =  0 : unequal case\n",
      "*i =  2 , j =  1 : unequal case\n",
      "i =  2 , j =  2 : equal case\n",
      "[(0, 0), (0, 3), (0, 6), (1, 0), (1, 2), (1, 6), (2, 0), (2, 3), (2, 4)]\n"
     ]
    }
   ],
   "source": [
    "D = []\n",
    "for i in range(3):\n",
    "    for j in range(3):\n",
    "        if i == j :\n",
    "            D.append((i,2*j))\n",
    "            print(\"i = \",i, \", j = \", j, \": equal case\")\n",
    "        elif i!= j:\n",
    "            D.append((i,3*j))\n",
    "            print(\"*i = \",i, \", j = \", j, \": unequal case\")\n",
    "            \n",
    "print(D)"
   ]
  },
  {
   "cell_type": "markdown",
   "metadata": {},
   "source": [
    "- To iterate two elements from two seperate Lists. It is not like nested for loop. enumerate too"
   ]
  },
  {
   "cell_type": "code",
   "execution_count": 16,
   "metadata": {},
   "outputs": [
    {
     "name": "stdout",
     "output_type": "stream",
     "text": [
      "Capital of province  No.1  is  Biratnagar\n",
      "Capital of province  No.2  is  Janakpur\n",
      "Capital of province  Bagmati  is  Hetauda\n",
      "Capital of province  Gandaki  is  Pokhara\n",
      "Capital of province  Lumbini  is  Deukhuri\n",
      "Capital of province  Karnali  is  Birendranagar\n",
      "Capital of province  Sudurpashchim  is  Godawari\n"
     ]
    }
   ],
   "source": [
    "province = [\"No.1\", \"No.2\",\"Bagmati\", \"Gandaki\",\"Lumbini\",\"Karnali\",\"Sudurpashchim\"]\n",
    "capital = [\"Biratnagar\",\"Janakpur\",\"Hetauda\",\"Pokhara\",\"Deukhuri\",\"Birendranagar\",\"Godawari\"]\n",
    "\n",
    "for j,k in zip(province,capital):\n",
    "    print(\"Capital of province \",j,\" is \",k)"
   ]
  },
  {
   "cell_type": "markdown",
   "metadata": {},
   "source": [
    "- To create a list with ```for``` loop"
   ]
  },
  {
   "cell_type": "code",
   "execution_count": 44,
   "metadata": {},
   "outputs": [
    {
     "name": "stdout",
     "output_type": "stream",
     "text": [
      "[5, 7, 9, 11, 13, 15, 17, 19, 21, 23]\n"
     ]
    }
   ],
   "source": [
    "A = [2*k+5 for k in range(10)]\n",
    "print(A)"
   ]
  },
  {
   "cell_type": "code",
   "execution_count": 9,
   "metadata": {},
   "outputs": [
    {
     "name": "stdout",
     "output_type": "stream",
     "text": [
      "[[1, 11, 41], [6, 16, 46], [11, 21, 51]]\n"
     ]
    }
   ],
   "source": [
    "AA = [[10*x**2+5*y+1 for x in range(3)] for y in range(3)]\n",
    "print(AA)"
   ]
  },
  {
   "cell_type": "markdown",
   "metadata": {},
   "source": [
    "- To iterate over List of List"
   ]
  },
  {
   "cell_type": "code",
   "execution_count": 48,
   "metadata": {},
   "outputs": [
    {
     "name": "stdout",
     "output_type": "stream",
     "text": [
      "The ( 0 , 0 ) th element of list AA is:  1\n",
      "The ( 0 , 1 ) th element of list AA is:  11\n",
      "The ( 0 , 2 ) th element of list AA is:  41\n",
      "The ( 1 , 0 ) th element of list AA is:  6\n",
      "The ( 1 , 1 ) th element of list AA is:  16\n",
      "The ( 1 , 2 ) th element of list AA is:  46\n",
      "The ( 2 , 0 ) th element of list AA is:  11\n",
      "The ( 2 , 1 ) th element of list AA is:  21\n",
      "The ( 2 , 2 ) th element of list AA is:  51\n"
     ]
    }
   ],
   "source": [
    "for i in range(3): \n",
    "    for j in range(3):\n",
    "        print(\"The\",\"(\",i,\",\",j,\")\",\"th element of list AA is: \",AA[i][j])"
   ]
  },
  {
   "cell_type": "markdown",
   "metadata": {},
   "source": [
    "- To use ```while``` loop."
   ]
  },
  {
   "cell_type": "code",
   "execution_count": 49,
   "metadata": {},
   "outputs": [
    {
     "name": "stdout",
     "output_type": "stream",
     "text": [
      "0 th turn\n",
      "1 th turn\n",
      "2 th turn\n",
      "3 th turn\n",
      "4 th turn\n"
     ]
    }
   ],
   "source": [
    "i = 0\n",
    "while i < 5:\n",
    "    print( i, \"th turn\")\n",
    "    i = i+1"
   ]
  },
  {
   "cell_type": "markdown",
   "metadata": {},
   "source": [
    "- To break for loop implementing ```if``` condition"
   ]
  },
  {
   "cell_type": "code",
   "execution_count": 13,
   "metadata": {},
   "outputs": [
    {
     "name": "stdout",
     "output_type": "stream",
     "text": [
      "0\n",
      "1\n",
      "2\n",
      "3\n",
      "loop value: 3\n",
      "3\n"
     ]
    }
   ],
   "source": [
    "for i in range(10):\n",
    "    #print(\"i = \",i)\n",
    "    print(i)\n",
    "    if i == 3:\n",
    "        print(\"loop value:\",i)\n",
    "        print(i)\n",
    "        break\n",
    "        print(\"loop break\")"
   ]
  },
  {
   "cell_type": "markdown",
   "metadata": {},
   "source": [
    "- To find sum from 0 to 1000"
   ]
  },
  {
   "cell_type": "code",
   "execution_count": 14,
   "metadata": {},
   "outputs": [
    {
     "data": {
      "text/plain": [
       "500500"
      ]
     },
     "execution_count": 14,
     "metadata": {},
     "output_type": "execute_result"
    }
   ],
   "source": [
    "s = 0\n",
    "for i in range(1001):\n",
    "    s = s+i\n",
    "s"
   ]
  },
  {
   "cell_type": "markdown",
   "metadata": {},
   "source": [
    "- sum of odd numbers"
   ]
  },
  {
   "cell_type": "code",
   "execution_count": 20,
   "metadata": {},
   "outputs": [
    {
     "name": "stdout",
     "output_type": "stream",
     "text": [
      "i =  3\n",
      "i =  5\n",
      "i =  7\n",
      "i =  11\n",
      "i =  13\n"
     ]
    },
    {
     "data": {
      "text/plain": [
       "(39, 39)"
      ]
     },
     "execution_count": 20,
     "metadata": {},
     "output_type": "execute_result"
    }
   ],
   "source": [
    "s = 0\n",
    "kl = [2,3,5,7,11,13]\n",
    "LE = []\n",
    "for i in kl:\n",
    "    if i%2 ==1:\n",
    "        print(\"i = \",i)\n",
    "        LE.append(i)\n",
    "        s = s+i\n",
    "s, sum(LE)\n",
    "\n"
   ]
  },
  {
   "cell_type": "code",
   "execution_count": 22,
   "metadata": {},
   "outputs": [
    {
     "name": "stdout",
     "output_type": "stream",
     "text": [
      "2\n",
      "3\n",
      "5\n",
      "7\n",
      "11\n",
      "13\n"
     ]
    },
    {
     "data": {
      "text/plain": [
       "(41, 41)"
      ]
     },
     "execution_count": 22,
     "metadata": {},
     "output_type": "execute_result"
    }
   ],
   "source": [
    "s = 0\n",
    "prm = []\n",
    "kl = [2,3,5,7,11,13]\n",
    "for i in kl:\n",
    "    print(i)\n",
    "    prm.append(i)\n",
    "    s = s+i\n",
    "s, sum(prm)"
   ]
  },
  {
   "cell_type": "markdown",
   "metadata": {},
   "source": [
    "- To test the if conditions:"
   ]
  },
  {
   "cell_type": "code",
   "execution_count": 59,
   "metadata": {},
   "outputs": [
    {
     "name": "stdout",
     "output_type": "stream",
     "text": [
      "It is samaller then 8 and greater then 6 | 7.679583467080391\n",
      "It is samaller then 4 and greater then 2 | 2.854480770545427\n",
      "It is samaller then 10 and greater then 8 | 8.529358249201156\n",
      "It is samaller then 4 and greater then 2 | 3.553298795144834\n",
      "It is samaller then 10 and greater then 8 | 9.944400724362522\n",
      "It is samaller then 10 and greater then 8 | 8.250085447049525\n",
      "It is samaller then 4 and greater then 2 | 3.723388467576153\n",
      "It is samaller then 10 and greater then 8 | 8.941996127567808\n",
      "It is samaller then 6 and greater then 4 | 4.080087554472712\n",
      "It is samaller then 6 and greater then 4 | 5.211702870768853\n"
     ]
    }
   ],
   "source": [
    "import random as random\n",
    "\n",
    "for i in range(10):\n",
    "    r = random.uniform(1,10)\n",
    "    if r<2 and r>0:\n",
    "        print(\"It is samaller then 2 and greater then 1\",\"|\", r)\n",
    "    elif r<4 and r>2:\n",
    "        print(\"It is samaller then 4 and greater then 2\",\"|\", r)\n",
    "    elif r<6 and r>4:\n",
    "        print(\"It is samaller then 6 and greater then 4\",\"|\", r)\n",
    "    elif r<8 and r>6:\n",
    "        print(\"It is samaller then 8 and greater then 6\",\"|\", r)\n",
    "    elif r<10 and r>8:\n",
    "        print(\"It is samaller then 10 and greater then 8\",\"|\", r)"
   ]
  },
  {
   "cell_type": "markdown",
   "metadata": {},
   "source": [
    "### References:\n",
    "1. https://docs.python.org/3/tutorial/index.html"
   ]
  },
  {
   "cell_type": "markdown",
   "metadata": {},
   "source": [
    "--------"
   ]
  }
 ],
 "metadata": {
  "kernelspec": {
   "display_name": "Python 3",
   "language": "python",
   "name": "python3"
  },
  "language_info": {
   "codemirror_mode": {
    "name": "ipython",
    "version": 3
   },
   "file_extension": ".py",
   "mimetype": "text/x-python",
   "name": "python",
   "nbconvert_exporter": "python",
   "pygments_lexer": "ipython3",
   "version": "3.7.9"
  }
 },
 "nbformat": 4,
 "nbformat_minor": 2
}
