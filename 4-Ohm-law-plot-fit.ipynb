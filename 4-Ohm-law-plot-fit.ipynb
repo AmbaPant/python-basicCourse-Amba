{
 "cells": [
  {
   "cell_type": "markdown",
   "metadata": {},
   "source": [
    "# Ohm's law \n",
    "- plot data from txt file\n",
    "- fit the data\n",
    "- save plot (.png , etc)\n",
    "## txt file contains text lines and numerical data\n",
    "- Comments: # for **single line comment** and ''' lines ''' for **multilines comment**\n",
    "- **Shortcut command to run** file.ipynb in Jupyter in windows OS: Shift+Enter \n",
    "- \n",
    "- open txt file\n",
    "- create empty lists for x and y values\n",
    "- read line by line from txt file\n",
    "- if line starts with any character (here #), continue without doing anything\n",
    "- if line starts with other than #, then slpit the line by delimiter (here is a space)\n",
    "- specify which are which\n",
    "- add those values in respective parameters, if needed\n",
    "- plot interested lists\n",
    "- format plot\n",
    "- save plot"
   ]
  },
  {
   "cell_type": "code",
   "execution_count": 3,
   "metadata": {},
   "outputs": [],
   "source": [
    "import matplotlib.pyplot as plt         \n",
    "import numpy as np"
   ]
  },
  {
   "cell_type": "markdown",
   "metadata": {},
   "source": [
    "- methods to open file using python\n",
    "1. \\\n",
    " f = open(\"test.txt\", mode='r', encoding = 'utf-8') \\\n",
    " perform file operations \\\n",
    "f.close() \\\n",
    "2. \\\n",
    "with open(\"test.txt\", mode='r', encoding = 'utf-8') as f: \\\n",
    "    perform file operations \\\n",
    "3. \\\n",
    "try:\\\n",
    "     (one tab space) f = open(\"test.txt\", encoding = 'utf-8') \\\n",
    "    (one tab space) perform file operations \\\n",
    "finally: \\\n",
    "   (one tab space) f.close()"
   ]
  },
  {
   "cell_type": "code",
   "execution_count": 25,
   "metadata": {
    "scrolled": true
   },
   "outputs": [
    {
     "name": "stdout",
     "output_type": "stream",
     "text": [
      "x [10.0, 15.0, 2.0, 15.5, 10.0, 12.0, 8.0, 3.5]\n",
      "y [5.0, 7.5, 1.0, 8.0, 5.0, 6.0, 4.5, 1.5]\n",
      "R [0.5, 0.5, 0.5, 0.5161290322580645, 0.5, 0.5, 0.5625, 0.42857142857142855]\n"
     ]
    },
    {
     "data": {
      "image/png": "[encoded data removed]",
      "text/plain": [
       "<Figure size 432x288 with 1 Axes>"
      ]
     },
     "metadata": {
      "needs_background": "light"
     },
     "output_type": "display_data"
    }
   ],
   "source": [
    "with open (\"exampledata.txt\",'r') as f:\n",
    "    X = []                                      # create blank list for x axis values\n",
    "    Y = []\n",
    "    R = []\n",
    "    r0 = []\n",
    "    for line in f:                              #each lin in file f\n",
    "        #print(line)\n",
    "        if line.startswith(\"#\"):                #if line start with # character, continue without doing any work\n",
    "            #print(line)\n",
    "            continue\n",
    "        else:                                   #if line start with othern than # then slpit the line by a space ' '\n",
    "            lineParts = line.split(' ')\n",
    "            #print(lineParts)\n",
    "            t = lineParts[0]                    # after slpit, 0 intexed value is time\n",
    "            #print(t)\n",
    "            x = float(lineParts[1])             # 1 intexed value is x, check w/wo float()\n",
    "            #print(x)\n",
    "            X.append(x)                         # add values of x in list X\n",
    "            #print(X)\n",
    "            y = float(lineParts[2])        \n",
    "            #print(y)\n",
    "            r = y / x\n",
    "            #print(\"resistance = \", r,\"Ohm\")\n",
    "            Y.append(y)\n",
    "            '''print(Y)'''                       # two ways of commenting\n",
    "            #print(Y)\n",
    "            #print(i,'\\t',x,'\\t',y)\n",
    "            R.append(r)\n",
    "            r0.append(r)\n",
    "            #print(r0)\n",
    "#print(i,x,y)\n",
    "print(\"x\",X)\n",
    "print(\"y\",Y)\n",
    "print(\"R\",R)\n",
    "#print(len(R))\n",
    "avgR = sum(R)/len(R)\n",
    "myMean = np.mean(R)\n",
    "#print(myMean)\n",
    "#print(\"resistance = \", avgR ,\"Ohm\")\n",
    "#print(X,Y)\n",
    "\n",
    "plt.figure(figsize = [6,4])                      #figsize(width, height) in inches\n",
    "#plt.bar(X,Y)       # ^ . try withh plt.plot\n",
    "plt.scatter(X,Y,color = 'blue', marker = 'o')       # ^ . try withh plt.plot\n",
    "plt.axis([0, 20, 0, 10])                         #axis[xmin,xmax, ymin,ymax]\n",
    "#another way to set axis limit\n",
    "#plt.xlim(xmin,xmax)\n",
    "#plt.ylim(ymin,ymax)\n",
    "plt.title(\"Ohm\\'s law\" , fontsize=25)\n",
    "plt.xlabel('Current (A)', fontsize=14)\n",
    "plt.ylabel('Voltage (V)', fontsize=14)\n",
    "plt.tight_layout()                             # this is for margin\n",
    "#plt.grid(True)                                 # comment this if u do not need grid\n",
    "plt.savefig(\"Ohm-plot.png\")                    # png, jpg, eps, pdf as u like\n",
    "plt.show()"
   ]
  },
  {
   "cell_type": "markdown",
   "metadata": {},
   "source": [
    "--------------------\n",
    "## curve_fit \n",
    "- define fitting function, f\n",
    "- Use non-linear least squares to fit a function, f, to xdata.\\\n",
    "popt, pcov = scipy.optimize.curve_fit(f, xdata, ydata, [p0,..])\\\n",
    "OR \\\n",
    "popt, pcov = curve_fit(f, xdata, ydata) \\\n",
    "OR \\\n",
    "popt, _ = curve_fit(f, xdata, ydata) \n",
    "\n",
    "- output\\\n",
    "popt = optimized parameters \\\n",
    "pcov = The estimated covariance of popt. \\\n",
    "The diagonals provide the variance of the optimized parameters.\n",
    "- Standard deviation errors on the parameters, perr = np.sqrt(np.diag(pcov)).\\\n",
    "(details: https://docs.scipy.org/doc/scipy/reference/generated/scipy.optimize.curve_fit.html )"
   ]
  },
  {
   "cell_type": "code",
   "execution_count": 32,
   "metadata": {},
   "outputs": [
    {
     "name": "stdout",
     "output_type": "stream",
     "text": [
      "[ 0.51343284 -0.06511194]\n",
      "[[ 0.00031197 -0.00296368]\n",
      " [-0.00296368  0.03468675]]\n",
      "[ 2.  3.  4.  5.  6.  7.  8.  9. 10. 11. 12. 13. 14. 15. 16.]\n",
      "[0.96175373 1.47518657 1.9886194  2.50205224 3.01548507 3.52891791\n",
      " 4.04235075 4.55578358 5.06921642 5.58264925 6.09608209 6.60951493\n",
      " 7.12294776 7.6363806  8.14981343]\n"
     ]
    },
    {
     "data": {
      "image/png": "[encoded data removed]",
      "text/plain": [
       "<Figure size 432x288 with 1 Axes>"
      ]
     },
     "metadata": {
      "needs_background": "light"
     },
     "output_type": "display_data"
    }
   ],
   "source": [
    "from scipy.optimize import curve_fit\n",
    "\n",
    "#curve_fit to find best fit parameters using a least square fit method.\n",
    "def lin_fun(x,a1,a2):\n",
    "    return a1*x + a2\n",
    "def lin_f1(x,a1,a2):\n",
    "    return a1*x**2 + a2\n",
    "\n",
    "popt,pcov = curve_fit(lin_fun,X,Y)\n",
    "p1,p2 = popt\n",
    "print(popt)\n",
    "print(pcov)\n",
    "#print(\"R = \", popt[0], \"+-\", pcov[0,0]**0.5)\n",
    "#print(\"intercept = \", popt[1], \"+-\", pcov[1,1]**0.5)\n",
    "\n",
    "# for smooth fit curve\n",
    "X_fit = np.arange(min(X),max(X)+1.0,1)\n",
    "Y_fit = lin_fun(X_fit, p1, p2)\n",
    "print(X_fit)\n",
    "print(Y_fit)\n",
    "\n",
    "plt.figure(figsize = [6,4])                      #figsize(width, height) in inches\n",
    "plt.plot(X,Y,\"o\", label = \"data\")\n",
    "plt.plot(X_fit,Y_fit,\"-\", label = \"fit\", color =\"red\")\n",
    "plt.axis([0, 25, 0, 10])                         #axis[xmin,xmax, ymin,ymax]\n",
    "plt.title(\"Ohm\\'s law\" , fontsize=16)\n",
    "plt.xlabel('Current (A)', fontsize=14)\n",
    "plt.ylabel('Voltage (V)', fontsize=14)\n",
    "plt.tight_layout()                             # this is for margin\n",
    "plt.grid(True)                                 # comment this if u do not need grid\n",
    "plt.legend()\n",
    "plt.savefig(\"Ohm-plot-fit0.png\")  \n",
    "plt.show()"
   ]
  },
  {
   "cell_type": "code",
   "execution_count": null,
   "metadata": {},
   "outputs": [],
   "source": []
  }
 ],
 "metadata": {
  "kernelspec": {
   "display_name": "Python 3",
   "language": "python",
   "name": "python3"
  },
  "language_info": {
   "codemirror_mode": {
    "name": "ipython",
    "version": 3
   },
   "file_extension": ".py",
   "mimetype": "text/x-python",
   "name": "python",
   "nbconvert_exporter": "python",
   "pygments_lexer": "ipython3",
   "version": "3.7.9"
  }
 },
 "nbformat": 4,
 "nbformat_minor": 4
}
